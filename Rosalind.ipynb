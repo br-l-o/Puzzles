{
 "cells": [
  {
   "cell_type": "markdown",
   "metadata": {},
   "source": []
  },
  {
   "cell_type": "markdown",
   "metadata": {},
   "source": [
    "# Rosalind Solutions\n",
    "\n",
    "Nothing better to learn a new language (F# in this case) than to use it!"
   ]
  },
  {
   "cell_type": "markdown",
   "metadata": {},
   "source": [
    "### Counting Nucleotides\n",
    "\n",
    "Not too hard!"
   ]
  },
  {
   "cell_type": "code",
   "execution_count": null,
   "metadata": {
    "dotnet_interactive": {
     "language": "fsharp"
    }
   },
   "outputs": [
    {
     "data": {
      "text/html": [
       "<table><thead><tr><th><i>index</i></th><th>Item1</th><th>Item2</th></tr></thead><tbody><tr><td>0</td><td><div class=\"dni-plaintext\">A</div></td><td><div class=\"dni-plaintext\">20</div></td></tr><tr><td>1</td><td><div class=\"dni-plaintext\">C</div></td><td><div class=\"dni-plaintext\">12</div></td></tr><tr><td>2</td><td><div class=\"dni-plaintext\">G</div></td><td><div class=\"dni-plaintext\">17</div></td></tr><tr><td>3</td><td><div class=\"dni-plaintext\">T</div></td><td><div class=\"dni-plaintext\">21</div></td></tr></tbody></table>"
      ]
     },
     "metadata": {},
     "output_type": "display_data"
    }
   ],
   "source": [
    "// http://rosalind.info/problems/dna/\n",
    "\n",
    "let CountDNAString (str: string) = \n",
    "    str.ToCharArray() |> Array.countBy id |> Array.sortBy (fun x -> fst x)\n",
    "\n",
    "\"AGCTTTTCATTCTGACTGCAACGGGCAATATGTCTCTGTGTGGATTAAAAAAAGAGTGTCTGATAGCAGC\" |> CountDNAString"
   ]
  },
  {
   "cell_type": "markdown",
   "metadata": {},
   "source": [
    "### Converting DNA to RNA"
   ]
  },
  {
   "cell_type": "code",
   "execution_count": null,
   "metadata": {
    "dotnet_interactive": {
     "language": "fsharp"
    }
   },
   "outputs": [
    {
     "data": {
      "text/plain": [
       "GAUGGAACUUGACUACGUAAAUU"
      ]
     },
     "metadata": {},
     "output_type": "display_data"
    }
   ],
   "source": [
    "// http://rosalind.info/problems/rna/\n",
    "\n",
    "let DNA2RNA (dna: string) = dna.Replace('T', 'U')\n",
    "\n",
    "\"GATGGAACTTGACTACGTAAATT\" |> DNA2RNA"
   ]
  },
  {
   "cell_type": "markdown",
   "metadata": {},
   "source": [
    "### Reverse Complement of a DNA sequence"
   ]
  },
  {
   "cell_type": "code",
   "execution_count": null,
   "metadata": {
    "dotnet_interactive": {
     "language": "fsharp"
    }
   },
   "outputs": [
    {
     "data": {
      "text/plain": [
       "ACCGGGTTTT"
      ]
     },
     "metadata": {},
     "output_type": "display_data"
    }
   ],
   "source": [
    "// http://rosalind.info/problems/revc/\n",
    "\n",
    "let GetComplement (cval: char) =\n",
    "    match cval with\n",
    "    | 'A' -> 'T'\n",
    "    | 'T' -> 'A'\n",
    "    | 'C' -> 'G'\n",
    "    | 'G' -> 'C'\n",
    "    | _ -> cval\n",
    "\n",
    "let ReverseComplement (dna: string) = \n",
    "    let complementArray = dna.ToCharArray() |> Array.rev |> Array.map (GetComplement)\n",
    "    System.String.Join(\"\", complementArray)\n",
    "\n",
    "\"AAAACCCGGT\" |> ReverseComplement"
   ]
  },
  {
   "cell_type": "markdown",
   "metadata": {},
   "source": [
    "### Hamming distance of 2 DNA sequences\n",
    "\n",
    "Taking another look at this, I could have gone with a more functional solution by [zipping](https://fsharp.github.io/fsharp-core-docs/reference/fsharp-collections-arraymodule.html#zip) both strings's respective char arrays and comparing them that way.\n",
    "\n",
    "But an imperative solution works just as well in this case."
   ]
  },
  {
   "cell_type": "code",
   "execution_count": null,
   "metadata": {
    "dotnet_interactive": {
     "language": "fsharp"
    }
   },
   "outputs": [
    {
     "data": {
      "text/html": [
       "<div class=\"dni-plaintext\">7</div>"
      ]
     },
     "metadata": {},
     "output_type": "display_data"
    }
   ],
   "source": [
    "// http://rosalind.info/problems/hamm/\n",
    "\n",
    "let HammingDistance (seq1: string) (seq2: string) = \n",
    "    let mutable distance = 0\n",
    "    for i = 0 to seq1.Length - 1 do\n",
    "        if seq1.[i] <> seq2.[i] \n",
    "        then distance <- distance + 1\n",
    "        else ()\n",
    "\n",
    "    distance\n",
    "\n",
    "HammingDistance \"GAGCCTACTAACGGGAT\" \"CATCGTAATGACGGCCT\""
   ]
  },
  {
   "cell_type": "markdown",
   "metadata": {},
   "source": [
    "(Update: Here's the functional solution.)"
   ]
  },
  {
   "cell_type": "code",
   "execution_count": null,
   "metadata": {
    "dotnet_interactive": {
     "language": "fsharp"
    }
   },
   "outputs": [
    {
     "data": {
      "text/html": [
       "<div class=\"dni-plaintext\">7</div>"
      ]
     },
     "metadata": {},
     "output_type": "display_data"
    }
   ],
   "source": [
    "// http://rosalind.info/problems/hamm/\n",
    "\n",
    "let HammingDistanceFunc (seq1: string) (seq2: string) =\n",
    "    Array.zip (seq1.ToCharArray()) (seq2.ToCharArray())\n",
    "    |> Array.map (fun (x,y) -> if x = y then 0 else 1)\n",
    "    |> Array.sum\n",
    "\n",
    "HammingDistanceFunc \"GAGCCTACTAACGGGAT\" \"CATCGTAATGACGGCCT\""
   ]
  },
  {
   "cell_type": "markdown",
   "metadata": {},
   "source": [
    "### Finding a motif within a DNA sequence"
   ]
  },
  {
   "cell_type": "code",
   "execution_count": null,
   "metadata": {
    "dotnet_interactive": {
     "language": "fsharp"
    }
   },
   "outputs": [
    {
     "name": "stdout",
     "output_type": "stream",
     "text": [
      "2 4 10"
     ]
    }
   ],
   "source": [
    "// http://rosalind.info/problems/subs/\n",
    "\n",
    "let FindMotif (motif: string) (sequence: string) = \n",
    "    let distances = System.Collections.Generic.List<int>()\n",
    "    for i = 0 to sequence.Length - motif.Length - 1 do\n",
    "        if sequence.Substring(i, motif.Length) = motif\n",
    "        then distances.Add(i + 1)\n",
    "        else ()\n",
    "\n",
    "    System.String.Join(\" \", distances).Trim()\n",
    "\n",
    "printf \"%s\" (FindMotif \"ATAT\" \"GATATATGCATATACTT\")\n"
   ]
  },
  {
   "cell_type": "markdown",
   "metadata": {},
   "source": [
    "### Converting RNA to protein\n",
    "\n",
    "This one was a tad painful, mainly due to ensuring all the cases in the `RNA2Protein` function were correct."
   ]
  },
  {
   "cell_type": "code",
   "execution_count": null,
   "metadata": {
    "dotnet_interactive": {
     "language": "fsharp"
    }
   },
   "outputs": [
    {
     "data": {
      "text/plain": [
       "MAMAPRTEINSTRING"
      ]
     },
     "metadata": {},
     "output_type": "display_data"
    }
   ],
   "source": [
    "// http://rosalind.info/problems/prot/\n",
    "\n",
    "let RNA2Protein rna = \n",
    "    match rna with\n",
    "    | \"UUU\" | \"UUC\" -> \"F\"\n",
    "    | \"UUA\" | \"UUG\" | \"CUU\" | \"CUC\" | \"CUA\" | \"CUG\" -> \"L\"\n",
    "    | \"UCU\" | \"UCC\" | \"UCA\" | \"UCG\" -> \"S\"\n",
    "    | \"UAU\" | \"UAC\" -> \"Y\"\n",
    "    | \"UGU\" | \"UGC\" -> \"C\"\n",
    "    | \"UGG\" -> \"W\"\n",
    "    | \"CCU\" | \"CCC\" | \"CCA\" | \"CCG\" -> \"P\"\n",
    "    | \"CAU\" | \"CAC\" -> \"H\"\n",
    "    | \"CAA\" | \"CAG\" -> \"Q\"\n",
    "    | \"CGU\" | \"CGC\" | \"CGA\" | \"CGG\" | \"AGA\" | \"AGG\" -> \"R\"\n",
    "    | \"AUU\" | \"AUC\" | \"AUA\" -> \"I\"\n",
    "    | \"AUG\" -> \"M\"\n",
    "    | \"ACU\" | \"ACC\" | \"ACA\" | \"ACG\" -> \"T\"\n",
    "    | \"AAU\" | \"AAC\" -> \"N\"\n",
    "    | \"AAA\" | \"AAG\" -> \"K\"\n",
    "    | \"AGU\" | \"AGC\" -> \"S\"\n",
    "    | \"GUU\" | \"GUC\" | \"GUA\" | \"GUG\" -> \"V\"\n",
    "    | \"GCU\" | \"GCC\" | \"GCA\" | \"GCG\" -> \"A\"\n",
    "    | \"GAU\" | \"GAC\" -> \"D\"\n",
    "    | \"GAA\" | \"GAG\" -> \"E\"\n",
    "    | \"GGU\" | \"GGC\" | \"GGA\" | \"GGG\" -> \"G\"\n",
    "    | \"UAA\" | \"UAG\" | \"UGA\" | _ -> \"\"\n",
    "\n",
    "let RNASequence2Protein (sequence: string) = \n",
    "    let str = System.Text.StringBuilder()\n",
    "\n",
    "    for i in 0 .. 3 .. (sequence.Length - 4) do\n",
    "        str.Append(sequence.Substring(i, 3) |> RNA2Protein) |> ignore\n",
    "    \n",
    "    str.ToString()\n",
    "\n",
    "RNASequence2Protein \"AUGGCCAUGGCGCCCAGAACUGAGAUCAAUAGUACCCGUAUUAACGGGUGA\"\n"
   ]
  },
  {
   "cell_type": "markdown",
   "metadata": {},
   "source": [
    "### Computing GC Content\n",
    "\n",
    "Honestly, the hardest part was dealing with the weird formatting Rosalind uses for the datasets."
   ]
  },
  {
   "cell_type": "code",
   "execution_count": null,
   "metadata": {
    "dotnet_interactive": {
     "language": "fsharp"
    }
   },
   "outputs": [
    {
     "data": {
      "text/plain": [
       "Rosalind_0808\r\n",
       "60.919540"
      ]
     },
     "metadata": {},
     "output_type": "display_data"
    }
   ],
   "source": [
    "// https://rosalind.info/problems/gc/\n",
    "\n",
    "let ComputeGC (seq: string) = \n",
    "    let gcValues = seq |> String.filter (fun x -> x = 'G' || x = 'C')\n",
    "    (gcValues.Length |> double) / (seq.Length |> double)  \n",
    "\n",
    "let GetLargestGCValue (values: (string * string) []) = \n",
    "    values \n",
    "    |> Array.map (fun (x, y) -> (x, (y |> ComputeGC) * 100.))\n",
    "    |> Array.maxBy (fun (_, y) -> y)\n",
    "\n",
    "let ProcessGCFile (gc: string) = \n",
    "    let lines = File.ReadAllText(gc)\n",
    "    let procResult = \n",
    "        lines.Split('>')\n",
    "        |> Array.map (fun x -> x.Split ('\\n'))\n",
    "        |> Array.map (fun x -> x |> List.ofArray)\n",
    "        |> Array.map (fun x -> (List.head x, List.tail x |> List.fold (+) \"\"))\n",
    "        |> Array.map (fun (x, y) -> (x, y |> String.filter (fun x -> not <| System.Char.IsWhiteSpace(x))))\n",
    "        |> Array.filter (fun (x, y) -> (not <| System.String.IsNullOrEmpty(x)) || (not <| System.String.IsNullOrEmpty(y)))\n",
    "        |> GetLargestGCValue\n",
    "\n",
    "    sprintf \"%s\\n%.6f\" (fst procResult) (snd procResult)\n",
    "\n",
    "(__SOURCE_DIRECTORY__) + @\"/test.txt\" |> ProcessGCFile"
   ]
  },
  {
   "cell_type": "markdown",
   "metadata": {
    "dotnet_interactive": {
     "language": "fsharp"
    }
   },
   "source": [
    "### Calculating Protein Mass"
   ]
  },
  {
   "cell_type": "code",
   "execution_count": null,
   "metadata": {
    "dotnet_interactive": {
     "language": "fsharp"
    }
   },
   "outputs": [
    {
     "data": {
      "text/plain": [
       "821.392"
      ]
     },
     "metadata": {},
     "output_type": "display_data"
    }
   ],
   "source": [
    "// https://rosalind.info/problems/prtm/\n",
    "\n",
    "// get a table of mass values\n",
    "// https://rosalind.info/glossary/monoisotopic-mass-table/\n",
    "let massTable = \n",
    "    File.ReadAllLines(__SOURCE_DIRECTORY__ + @\"/monoisotopic_mass_table.txt\")\n",
    "    |> Array.map (fun x -> x.Split(' '))\n",
    "    |> Array.map ((fun x -> x |> Array.filter (fun y -> not <| System.String.IsNullOrEmpty(y))))\n",
    "    |> Array.map (fun x -> (x.[0] |> char, x.[1] |> float))\n",
    "    |> Map.ofArray\n",
    "\n",
    "let GetProteinWeight (sequence: string) = \n",
    "    sequence.ToCharArray() \n",
    "    |> Array.map (fun x -> \n",
    "                    match massTable |> Map.tryFind x with \n",
    "                    | None -> 0.\n",
    "                    | Some y -> y)\n",
    "    |> Array.sum\n",
    "\n",
    "sprintf \"%.3f\" (\"SKADYEK\" |> GetProteinWeight)"
   ]
  }
 ],
 "metadata": {
  "kernelspec": {
   "display_name": ".NET (F#)",
   "language": "F#",
   "name": ".net-fsharp"
  },
  "language_info": {
   "name": "F#"
  }
 },
 "nbformat": 4,
 "nbformat_minor": 2
}
